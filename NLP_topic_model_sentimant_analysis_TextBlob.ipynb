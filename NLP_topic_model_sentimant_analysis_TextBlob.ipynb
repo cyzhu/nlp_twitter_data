{
 "cells": [
  {
   "cell_type": "code",
   "execution_count": 1,
   "metadata": {},
   "outputs": [
    {
     "name": "stderr",
     "output_type": "stream",
     "text": [
      "/Users/cyzhu/conda/miniconda3/envs/py39/lib/python3.9/site-packages/matplotlib_inline/config.py:66: DeprecationWarning: InlineBackend._figure_formats_changed is deprecated in traitlets 4.1: use @observe and @unobserve instead.\n",
      "  def _figure_formats_changed(self, name, old, new):\n"
     ]
    }
   ],
   "source": [
    "import pandas as pd\n",
    "## for text processing\n",
    "import re\n",
    "import nltk\n",
    "\n",
    "from scipy import stats\n",
    "\n",
    "## for sentiment\n",
    "from textblob import TextBlob\n",
    "from vaderSentiment.vaderSentiment import SentimentIntensityAnalyzer\n",
    "## for ner\n",
    "# import spacy\n",
    "# ## for vectorizer\n",
    "from sklearn import manifold\n",
    "## for word embedding\n",
    "import gensim.downloader as gensim_api\n",
    "## for topic modeling\n",
    "import gensim\n",
    "# plotting topic model\n",
    "import pyLDAvis\n",
    "import pyLDAvis.gensim_models as gensimvis\n",
    "# pyLDAvis.enable_notebook()\n",
    "\n",
    "import matplotlib.pyplot as plt\n",
    "import seaborn as sns\n",
    "import warnings\n",
    "warnings.filterwarnings(\"ignore\")"
   ]
  },
  {
   "cell_type": "markdown",
   "metadata": {},
   "source": [
    "### Helper functions"
   ]
  },
  {
   "cell_type": "code",
   "execution_count": 2,
   "metadata": {},
   "outputs": [],
   "source": [
    "def clean_text(text, flg_stemm=False, flg_lemm=True, lst_stopwords=None):\n",
    "    \"\"\"Preprocess the text. \n",
    "    Convert to lowercase, remove @user, remove punctuations and characters and then strip.\n",
    "    \"\"\"\n",
    "    ## clean ()\n",
    "    text = re.sub('@[^\\s]+','',text)\n",
    "    text = re.sub(r'[^\\w\\s]', '', str(text).lower().strip())\n",
    "            \n",
    "    ## Tokenize (convert from string to list)\n",
    "    lst_text = text.split()\n",
    "    ## remove Stopwords\n",
    "    if lst_stopwords is not None:\n",
    "        lst_text = [word for word in lst_text if word not in \n",
    "                    lst_stopwords]\n",
    "                \n",
    "    ## Stemming (remove -ing, -ly, ...)\n",
    "    if flg_stemm == True:\n",
    "        ps = nltk.stem.porter.PorterStemmer()\n",
    "        lst_text = [ps.stem(word) for word in lst_text]\n",
    "                \n",
    "    ## Lemmatisation (convert the word into root word)\n",
    "    if flg_lemm == True:\n",
    "        lem = nltk.stem.wordnet.WordNetLemmatizer()\n",
    "        lst_text = [lem.lemmatize(word) for word in lst_text]\n",
    "            \n",
    "    ## back to string from list\n",
    "    text = \" \".join(lst_text)\n",
    "    return text\n",
    "\n",
    "def get_sentence_count(text):\n",
    "    \"\"\"Make sure that '' or whitespace doesn't count as a sentence. \"\"\"\n",
    "    non_empty = [i for i in text.split('.') if i or i.isspace()]\n",
    "    return len(non_empty)\n",
    "\n",
    "def get_word_stats(df,colname:str = 'Text'):\n",
    "    \"\"\"Get the summary stats for word count, charater count, sentence count, avg length.\"\"\"\n",
    "    df['word_count'] = df[colname].apply(lambda x: len(str(x).split(\" \")))\n",
    "    df['char_count'] = df[colname].apply(lambda x: sum(len(word) for word in str(x).split(\" \")))\n",
    "\n",
    "    df['sentence_count'] = df[colname].apply(lambda x: get_sentence_count(x))\n",
    "    df['avg_word_length'] = df['char_count'] / df['word_count']\n",
    "    df['avg_sentence_length'] = df['word_count'] / df['sentence_count']\n",
    "    return df\n",
    "\n",
    "def plot_distribution(x,category,width:int = 10, height:int = 4):\n",
    "    \"\"\"Plot the distribution by category.\"\"\"\n",
    "    fig, ax = plt.subplots(nrows=1, ncols=2,figsize = (width,height))\n",
    "    fig.suptitle(x, fontsize=12)\n",
    "    for i in df2[category].unique():\n",
    "        sns.distplot(df2[df2[category]==i][x], hist=True, kde=False, \n",
    "                    bins=10, hist_kws={\"alpha\":0.8}, \n",
    "                    axlabel=\"histogram\", ax=ax[0])\n",
    "        sns.distplot(df2[df2[category]==i][x], hist=False, kde=True, \n",
    "                    kde_kws={\"shade\":True}, axlabel=\"density\",   \n",
    "                    ax=ax[1])\n",
    "    ax[0].grid(True)\n",
    "    ax[0].legend(df2[category].unique())\n",
    "    ax[1].grid(True)\n",
    "    return fig,ax\n"
   ]
  },
  {
   "cell_type": "markdown",
   "metadata": {},
   "source": [
    "### 1. Data profiling and preprocessing"
   ]
  },
  {
   "cell_type": "code",
   "execution_count": 3,
   "metadata": {},
   "outputs": [
    {
     "name": "stdout",
     "output_type": "stream",
     "text": [
      "(82999, 7)\n",
      "Keyword       object\n",
      "Handle        object\n",
      "TimeStamp     object\n",
      "TweetID      float64\n",
      "Text          object\n",
      "Followers      int64\n",
      "WC             int64\n",
      "dtype: object\n"
     ]
    },
    {
     "data": {
      "text/html": [
       "<div>\n",
       "<style scoped>\n",
       "    .dataframe tbody tr th:only-of-type {\n",
       "        vertical-align: middle;\n",
       "    }\n",
       "\n",
       "    .dataframe tbody tr th {\n",
       "        vertical-align: top;\n",
       "    }\n",
       "\n",
       "    .dataframe thead th {\n",
       "        text-align: right;\n",
       "    }\n",
       "</style>\n",
       "<table border=\"1\" class=\"dataframe\">\n",
       "  <thead>\n",
       "    <tr style=\"text-align: right;\">\n",
       "      <th></th>\n",
       "      <th>Keyword</th>\n",
       "      <th>Handle</th>\n",
       "      <th>TimeStamp</th>\n",
       "      <th>TweetID</th>\n",
       "      <th>Text</th>\n",
       "      <th>Followers</th>\n",
       "      <th>WC</th>\n",
       "    </tr>\n",
       "  </thead>\n",
       "  <tbody>\n",
       "    <tr>\n",
       "      <th>0</th>\n",
       "      <td>Clinton</td>\n",
       "      <td>CrabbyAbbey1</td>\n",
       "      <td>Fri Oct 07 00:00:06 +0000 2016</td>\n",
       "      <td>7.841815e+17</td>\n",
       "      <td>@SarahKSilverman If you have to lie to win you...</td>\n",
       "      <td>1</td>\n",
       "      <td>16</td>\n",
       "    </tr>\n",
       "    <tr>\n",
       "      <th>1</th>\n",
       "      <td>Clinton</td>\n",
       "      <td>Marianne_Summer</td>\n",
       "      <td>Fri Oct 07 00:00:26 +0000 2016</td>\n",
       "      <td>7.841816e+17</td>\n",
       "      <td>Here's how much Hillary Clinton paid in taxes ...</td>\n",
       "      <td>2</td>\n",
       "      <td>11</td>\n",
       "    </tr>\n",
       "    <tr>\n",
       "      <th>2</th>\n",
       "      <td>Trump</td>\n",
       "      <td>SAcurrent</td>\n",
       "      <td>Fri Oct 07 00:00:32 +0000 2016</td>\n",
       "      <td>7.841816e+17</td>\n",
       "      <td>Protesters at Trump's SA Fundraiser Were Passi...</td>\n",
       "      <td>78082</td>\n",
       "      <td>11</td>\n",
       "    </tr>\n",
       "  </tbody>\n",
       "</table>\n",
       "</div>"
      ],
      "text/plain": [
       "   Keyword           Handle                       TimeStamp       TweetID  \\\n",
       "0  Clinton     CrabbyAbbey1  Fri Oct 07 00:00:06 +0000 2016  7.841815e+17   \n",
       "1  Clinton  Marianne_Summer  Fri Oct 07 00:00:26 +0000 2016  7.841816e+17   \n",
       "2    Trump        SAcurrent  Fri Oct 07 00:00:32 +0000 2016  7.841816e+17   \n",
       "\n",
       "                                                Text  Followers  WC  \n",
       "0  @SarahKSilverman If you have to lie to win you...          1  16  \n",
       "1  Here's how much Hillary Clinton paid in taxes ...          2  11  \n",
       "2  Protesters at Trump's SA Fundraiser Were Passi...      78082  11  "
      ]
     },
     "execution_count": 3,
     "metadata": {},
     "output_type": "execute_result"
    }
   ],
   "source": [
    "df = pd.read_excel(\"2016 Election Random Sample.xlsx\")\n",
    "print(df.shape)\n",
    "print(df.dtypes)\n",
    "df.head(3)"
   ]
  },
  {
   "cell_type": "code",
   "execution_count": 4,
   "metadata": {},
   "outputs": [
    {
     "data": {
      "text/plain": [
       "Keyword      0\n",
       "Handle       0\n",
       "TimeStamp    0\n",
       "TweetID      0\n",
       "Text         0\n",
       "Followers    0\n",
       "WC           0\n",
       "dtype: int64"
      ]
     },
     "execution_count": 4,
     "metadata": {},
     "output_type": "execute_result"
    }
   ],
   "source": [
    "df.isnull().sum()"
   ]
  },
  {
   "cell_type": "code",
   "execution_count": 5,
   "metadata": {},
   "outputs": [
    {
     "name": "stdout",
     "output_type": "stream",
     "text": [
      "(82647, 7)\n",
      "2016-10-05 20:07:31+00:00 2016-10-12 23:25:22+00:00\n"
     ]
    },
    {
     "data": {
      "text/html": [
       "<div>\n",
       "<style scoped>\n",
       "    .dataframe tbody tr th:only-of-type {\n",
       "        vertical-align: middle;\n",
       "    }\n",
       "\n",
       "    .dataframe tbody tr th {\n",
       "        vertical-align: top;\n",
       "    }\n",
       "\n",
       "    .dataframe thead th {\n",
       "        text-align: right;\n",
       "    }\n",
       "</style>\n",
       "<table border=\"1\" class=\"dataframe\">\n",
       "  <thead>\n",
       "    <tr style=\"text-align: right;\">\n",
       "      <th></th>\n",
       "      <th>Keyword</th>\n",
       "      <th>Handle</th>\n",
       "      <th>TimeStamp</th>\n",
       "      <th>TweetID</th>\n",
       "      <th>Text</th>\n",
       "      <th>Followers</th>\n",
       "      <th>WC</th>\n",
       "    </tr>\n",
       "  </thead>\n",
       "  <tbody>\n",
       "    <tr>\n",
       "      <th>82644</th>\n",
       "      <td>Election-General</td>\n",
       "      <td>KalonJelen</td>\n",
       "      <td>2016-10-12 23:25:17+00:00</td>\n",
       "      <td>7.863470e+17</td>\n",
       "      <td>Yeah. No one's surprised. At this point it's j...</td>\n",
       "      <td>91</td>\n",
       "      <td>24</td>\n",
       "    </tr>\n",
       "    <tr>\n",
       "      <th>82645</th>\n",
       "      <td>Clinton</td>\n",
       "      <td>By_SJD</td>\n",
       "      <td>2016-10-12 23:25:18+00:00</td>\n",
       "      <td>7.863470e+17</td>\n",
       "      <td>They do know that #repealthe19th just makes me...</td>\n",
       "      <td>842</td>\n",
       "      <td>27</td>\n",
       "    </tr>\n",
       "    <tr>\n",
       "      <th>82646</th>\n",
       "      <td>Clinton</td>\n",
       "      <td>Barbara101123</td>\n",
       "      <td>2016-10-12 23:25:22+00:00</td>\n",
       "      <td>7.863471e+17</td>\n",
       "      <td>Remember Hillary and her campaign are in Cahoo...</td>\n",
       "      <td>5</td>\n",
       "      <td>15</td>\n",
       "    </tr>\n",
       "  </tbody>\n",
       "</table>\n",
       "</div>"
      ],
      "text/plain": [
       "                Keyword         Handle                 TimeStamp  \\\n",
       "82644  Election-General     KalonJelen 2016-10-12 23:25:17+00:00   \n",
       "82645           Clinton         By_SJD 2016-10-12 23:25:18+00:00   \n",
       "82646           Clinton  Barbara101123 2016-10-12 23:25:22+00:00   \n",
       "\n",
       "            TweetID                                               Text  \\\n",
       "82644  7.863470e+17  Yeah. No one's surprised. At this point it's j...   \n",
       "82645  7.863470e+17  They do know that #repealthe19th just makes me...   \n",
       "82646  7.863471e+17  Remember Hillary and her campaign are in Cahoo...   \n",
       "\n",
       "       Followers  WC  \n",
       "82644         91  24  \n",
       "82645        842  27  \n",
       "82646          5  15  "
      ]
     },
     "execution_count": 5,
     "metadata": {},
     "output_type": "execute_result"
    }
   ],
   "source": [
    "# remove duplicated records\n",
    "df.drop_duplicates(inplace=True)\n",
    "df.reset_index(inplace=True,drop=True)\n",
    "\n",
    "df['TimeStamp'] = pd.to_datetime(df['TimeStamp'])\n",
    "# so apparently object type is not equivalent to string type\n",
    "# need to explicitly transform it to str type\n",
    "df['Handle'] = df['Handle'].astype(str)\n",
    "\n",
    "print(df.shape)\n",
    "print(df['TimeStamp'].min(), df['TimeStamp'].max())\n",
    "df.tail(3)"
   ]
  },
  {
   "cell_type": "code",
   "execution_count": 6,
   "metadata": {},
   "outputs": [
    {
     "data": {
      "text/plain": [
       "Keyword          4\n",
       "Handle       62012\n",
       "TimeStamp    75142\n",
       "TweetID      82647\n",
       "Text         77628\n",
       "Followers    12075\n",
       "WC              26\n",
       "dtype: int64"
      ]
     },
     "execution_count": 6,
     "metadata": {},
     "output_type": "execute_result"
    }
   ],
   "source": [
    "df.nunique()"
   ]
  },
  {
   "cell_type": "code",
   "execution_count": 7,
   "metadata": {},
   "outputs": [
    {
     "data": {
      "text/html": [
       "<div>\n",
       "<style scoped>\n",
       "    .dataframe tbody tr th:only-of-type {\n",
       "        vertical-align: middle;\n",
       "    }\n",
       "\n",
       "    .dataframe tbody tr th {\n",
       "        vertical-align: top;\n",
       "    }\n",
       "\n",
       "    .dataframe thead th {\n",
       "        text-align: right;\n",
       "    }\n",
       "</style>\n",
       "<table border=\"1\" class=\"dataframe\">\n",
       "  <thead>\n",
       "    <tr style=\"text-align: right;\">\n",
       "      <th></th>\n",
       "      <th>Handle</th>\n",
       "      <th>TweetID</th>\n",
       "    </tr>\n",
       "  </thead>\n",
       "  <tbody>\n",
       "    <tr>\n",
       "      <th>12796</th>\n",
       "      <td>HydroElections</td>\n",
       "      <td>118</td>\n",
       "    </tr>\n",
       "    <tr>\n",
       "      <th>38476</th>\n",
       "      <td>corrigan_david</td>\n",
       "      <td>82</td>\n",
       "    </tr>\n",
       "    <tr>\n",
       "      <th>38412</th>\n",
       "      <td>constantino_sam</td>\n",
       "      <td>61</td>\n",
       "    </tr>\n",
       "    <tr>\n",
       "      <th>34261</th>\n",
       "      <td>amrightnow</td>\n",
       "      <td>48</td>\n",
       "    </tr>\n",
       "    <tr>\n",
       "      <th>20066</th>\n",
       "      <td>MikePence20</td>\n",
       "      <td>45</td>\n",
       "    </tr>\n",
       "  </tbody>\n",
       "</table>\n",
       "</div>"
      ],
      "text/plain": [
       "                Handle  TweetID\n",
       "12796   HydroElections      118\n",
       "38476   corrigan_david       82\n",
       "38412  constantino_sam       61\n",
       "34261       amrightnow       48\n",
       "20066      MikePence20       45"
      ]
     },
     "execution_count": 7,
     "metadata": {},
     "output_type": "execute_result"
    }
   ],
   "source": [
    "count_by_user = df.groupby('Handle')['TweetID'].count().reset_index()\n",
    "count_by_user.sort_values(by='TweetID',ascending=False).head()"
   ]
  },
  {
   "cell_type": "code",
   "execution_count": 8,
   "metadata": {},
   "outputs": [
    {
     "data": {
      "text/plain": [
       "count    8.264700e+04\n",
       "mean     1.148538e+04\n",
       "std      3.205234e+05\n",
       "min      0.000000e+00\n",
       "25%      9.200000e+01\n",
       "50%      4.330000e+02\n",
       "75%      1.722000e+03\n",
       "max      3.082208e+07\n",
       "Name: Followers, dtype: float64"
      ]
     },
     "execution_count": 8,
     "metadata": {},
     "output_type": "execute_result"
    }
   ],
   "source": [
    "df['Followers'].describe()"
   ]
  },
  {
   "cell_type": "code",
   "execution_count": 9,
   "metadata": {},
   "outputs": [
    {
     "data": {
      "text/plain": [
       "Keyword\n",
       "Both                 7052\n",
       "Clinton             18999\n",
       "Election-General    14734\n",
       "Trump               41862\n",
       "Name: TweetID, dtype: int64"
      ]
     },
     "execution_count": 9,
     "metadata": {},
     "output_type": "execute_result"
    }
   ],
   "source": [
    "df.groupby('Keyword')['TweetID'].count()"
   ]
  },
  {
   "cell_type": "code",
   "execution_count": 10,
   "metadata": {},
   "outputs": [
    {
     "data": {
      "text/html": [
       "<div>\n",
       "<style scoped>\n",
       "    .dataframe tbody tr th:only-of-type {\n",
       "        vertical-align: middle;\n",
       "    }\n",
       "\n",
       "    .dataframe tbody tr th {\n",
       "        vertical-align: top;\n",
       "    }\n",
       "\n",
       "    .dataframe thead th {\n",
       "        text-align: right;\n",
       "    }\n",
       "</style>\n",
       "<table border=\"1\" class=\"dataframe\">\n",
       "  <thead>\n",
       "    <tr style=\"text-align: right;\">\n",
       "      <th></th>\n",
       "      <th>Keyword</th>\n",
       "      <th>Handle</th>\n",
       "      <th>TimeStamp</th>\n",
       "      <th>TweetID</th>\n",
       "      <th>Text</th>\n",
       "      <th>Followers</th>\n",
       "      <th>WC</th>\n",
       "      <th>Text_Clean</th>\n",
       "    </tr>\n",
       "  </thead>\n",
       "  <tbody>\n",
       "    <tr>\n",
       "      <th>0</th>\n",
       "      <td>Clinton</td>\n",
       "      <td>CrabbyAbbey1</td>\n",
       "      <td>2016-10-07 00:00:06+00:00</td>\n",
       "      <td>7.841815e+17</td>\n",
       "      <td>@SarahKSilverman If you have to lie to win you...</td>\n",
       "      <td>1</td>\n",
       "      <td>16</td>\n",
       "      <td>lie win work clinton that pretti deplor</td>\n",
       "    </tr>\n",
       "    <tr>\n",
       "      <th>1</th>\n",
       "      <td>Clinton</td>\n",
       "      <td>Marianne_Summer</td>\n",
       "      <td>2016-10-07 00:00:26+00:00</td>\n",
       "      <td>7.841816e+17</td>\n",
       "      <td>Here's how much Hillary Clinton paid in taxes ...</td>\n",
       "      <td>2</td>\n",
       "      <td>11</td>\n",
       "      <td>here much hillari clinton paid tax last year</td>\n",
       "    </tr>\n",
       "    <tr>\n",
       "      <th>2</th>\n",
       "      <td>Trump</td>\n",
       "      <td>SAcurrent</td>\n",
       "      <td>2016-10-07 00:00:32+00:00</td>\n",
       "      <td>7.841816e+17</td>\n",
       "      <td>Protesters at Trump's SA Fundraiser Were Passi...</td>\n",
       "      <td>78082</td>\n",
       "      <td>11</td>\n",
       "      <td>protest trump sa fundrais passion peac</td>\n",
       "    </tr>\n",
       "  </tbody>\n",
       "</table>\n",
       "</div>"
      ],
      "text/plain": [
       "   Keyword           Handle                 TimeStamp       TweetID  \\\n",
       "0  Clinton     CrabbyAbbey1 2016-10-07 00:00:06+00:00  7.841815e+17   \n",
       "1  Clinton  Marianne_Summer 2016-10-07 00:00:26+00:00  7.841816e+17   \n",
       "2    Trump        SAcurrent 2016-10-07 00:00:32+00:00  7.841816e+17   \n",
       "\n",
       "                                                Text  Followers  WC  \\\n",
       "0  @SarahKSilverman If you have to lie to win you...          1  16   \n",
       "1  Here's how much Hillary Clinton paid in taxes ...          2  11   \n",
       "2  Protesters at Trump's SA Fundraiser Were Passi...      78082  11   \n",
       "\n",
       "                                     Text_Clean  \n",
       "0       lie win work clinton that pretti deplor  \n",
       "1  here much hillari clinton paid tax last year  \n",
       "2        protest trump sa fundrais passion peac  "
      ]
     },
     "execution_count": 10,
     "metadata": {},
     "output_type": "execute_result"
    }
   ],
   "source": [
    "lst_stopwords = nltk.corpus.stopwords.words(\"english\")\n",
    "# adding word 'url' to stop words\n",
    "lst_stopwords.append('url')\n",
    "\n",
    "# clean the text\n",
    "df['Text_Clean'] = df['Text'].apply(lambda x: clean_text(x, flg_stemm=True, flg_lemm=True, lst_stopwords = lst_stopwords)) \n",
    "df.head(3)"
   ]
  },
  {
   "cell_type": "code",
   "execution_count": 11,
   "metadata": {},
   "outputs": [
    {
     "name": "stdout",
     "output_type": "stream",
     "text": [
      "@SarahKSilverman If you have to lie to win you are working for Clinton. That's pretty deplorable.  -->  lie win work clinton that pretti deplor\n"
     ]
    }
   ],
   "source": [
    "print(df[\"Text\"].iloc[0], \" --> \", df[\"Text_Clean\"].iloc[0])"
   ]
  },
  {
   "cell_type": "code",
   "execution_count": 11,
   "metadata": {},
   "outputs": [
    {
     "data": {
      "text/html": [
       "<div>\n",
       "<style scoped>\n",
       "    .dataframe tbody tr th:only-of-type {\n",
       "        vertical-align: middle;\n",
       "    }\n",
       "\n",
       "    .dataframe tbody tr th {\n",
       "        vertical-align: top;\n",
       "    }\n",
       "\n",
       "    .dataframe thead th {\n",
       "        text-align: right;\n",
       "    }\n",
       "</style>\n",
       "<table border=\"1\" class=\"dataframe\">\n",
       "  <thead>\n",
       "    <tr style=\"text-align: right;\">\n",
       "      <th></th>\n",
       "      <th>Keyword</th>\n",
       "      <th>Handle</th>\n",
       "      <th>TimeStamp</th>\n",
       "      <th>TweetID</th>\n",
       "      <th>Text</th>\n",
       "      <th>Followers</th>\n",
       "      <th>WC</th>\n",
       "      <th>Text_Clean</th>\n",
       "      <th>word_count</th>\n",
       "      <th>char_count</th>\n",
       "      <th>sentence_count</th>\n",
       "      <th>avg_word_length</th>\n",
       "      <th>avg_sentence_length</th>\n",
       "    </tr>\n",
       "  </thead>\n",
       "  <tbody>\n",
       "    <tr>\n",
       "      <th>0</th>\n",
       "      <td>Clinton</td>\n",
       "      <td>CrabbyAbbey1</td>\n",
       "      <td>2016-10-07 00:00:06+00:00</td>\n",
       "      <td>7.841815e+17</td>\n",
       "      <td>@SarahKSilverman If you have to lie to win you...</td>\n",
       "      <td>1</td>\n",
       "      <td>16</td>\n",
       "      <td>lie win work clinton that pretti deplor</td>\n",
       "      <td>16</td>\n",
       "      <td>82</td>\n",
       "      <td>2</td>\n",
       "      <td>5.125000</td>\n",
       "      <td>8.0</td>\n",
       "    </tr>\n",
       "    <tr>\n",
       "      <th>1</th>\n",
       "      <td>Clinton</td>\n",
       "      <td>Marianne_Summer</td>\n",
       "      <td>2016-10-07 00:00:26+00:00</td>\n",
       "      <td>7.841816e+17</td>\n",
       "      <td>Here's how much Hillary Clinton paid in taxes ...</td>\n",
       "      <td>2</td>\n",
       "      <td>11</td>\n",
       "      <td>here much hillari clinton paid tax last year</td>\n",
       "      <td>11</td>\n",
       "      <td>49</td>\n",
       "      <td>1</td>\n",
       "      <td>4.454545</td>\n",
       "      <td>11.0</td>\n",
       "    </tr>\n",
       "    <tr>\n",
       "      <th>2</th>\n",
       "      <td>Trump</td>\n",
       "      <td>SAcurrent</td>\n",
       "      <td>2016-10-07 00:00:32+00:00</td>\n",
       "      <td>7.841816e+17</td>\n",
       "      <td>Protesters at Trump's SA Fundraiser Were Passi...</td>\n",
       "      <td>78082</td>\n",
       "      <td>11</td>\n",
       "      <td>protest trump sa fundrais passion peac</td>\n",
       "      <td>11</td>\n",
       "      <td>62</td>\n",
       "      <td>1</td>\n",
       "      <td>5.636364</td>\n",
       "      <td>11.0</td>\n",
       "    </tr>\n",
       "  </tbody>\n",
       "</table>\n",
       "</div>"
      ],
      "text/plain": [
       "   Keyword           Handle                 TimeStamp       TweetID  \\\n",
       "0  Clinton     CrabbyAbbey1 2016-10-07 00:00:06+00:00  7.841815e+17   \n",
       "1  Clinton  Marianne_Summer 2016-10-07 00:00:26+00:00  7.841816e+17   \n",
       "2    Trump        SAcurrent 2016-10-07 00:00:32+00:00  7.841816e+17   \n",
       "\n",
       "                                                Text  Followers  WC  \\\n",
       "0  @SarahKSilverman If you have to lie to win you...          1  16   \n",
       "1  Here's how much Hillary Clinton paid in taxes ...          2  11   \n",
       "2  Protesters at Trump's SA Fundraiser Were Passi...      78082  11   \n",
       "\n",
       "                                     Text_Clean  word_count  char_count  \\\n",
       "0       lie win work clinton that pretti deplor          16          82   \n",
       "1  here much hillari clinton paid tax last year          11          49   \n",
       "2        protest trump sa fundrais passion peac          11          62   \n",
       "\n",
       "   sentence_count  avg_word_length  avg_sentence_length  \n",
       "0               2         5.125000                  8.0  \n",
       "1               1         4.454545                 11.0  \n",
       "2               1         5.636364                 11.0  "
      ]
     },
     "execution_count": 11,
     "metadata": {},
     "output_type": "execute_result"
    }
   ],
   "source": [
    "df2 = get_word_stats(df,colname='Text')\n",
    "df2.head(3)"
   ]
  },
  {
   "cell_type": "code",
   "execution_count": 63,
   "metadata": {},
   "outputs": [
    {
     "data": {
      "text/html": [
       "<div>\n",
       "<style scoped>\n",
       "    .dataframe tbody tr th:only-of-type {\n",
       "        vertical-align: middle;\n",
       "    }\n",
       "\n",
       "    .dataframe tbody tr th {\n",
       "        vertical-align: top;\n",
       "    }\n",
       "\n",
       "    .dataframe thead th {\n",
       "        text-align: right;\n",
       "    }\n",
       "</style>\n",
       "<table border=\"1\" class=\"dataframe\">\n",
       "  <thead>\n",
       "    <tr style=\"text-align: right;\">\n",
       "      <th></th>\n",
       "      <th>TweetID</th>\n",
       "      <th>Followers</th>\n",
       "      <th>WC</th>\n",
       "      <th>word_count</th>\n",
       "      <th>char_count</th>\n",
       "      <th>sentence_count</th>\n",
       "      <th>avg_word_length</th>\n",
       "      <th>avg_sentence_length</th>\n",
       "      <th>sentiment</th>\n",
       "      <th>sentiment_abs</th>\n",
       "      <th>group</th>\n",
       "    </tr>\n",
       "  </thead>\n",
       "  <tbody>\n",
       "    <tr>\n",
       "      <th>count</th>\n",
       "      <td>8.264700e+04</td>\n",
       "      <td>8.264700e+04</td>\n",
       "      <td>82647.000000</td>\n",
       "      <td>82647.000000</td>\n",
       "      <td>82647.000000</td>\n",
       "      <td>82647.000000</td>\n",
       "      <td>82647.000000</td>\n",
       "      <td>82647.000000</td>\n",
       "      <td>82647.000000</td>\n",
       "      <td>82647.000000</td>\n",
       "      <td>82647.000000</td>\n",
       "    </tr>\n",
       "    <tr>\n",
       "      <th>mean</th>\n",
       "      <td>7.851709e+17</td>\n",
       "      <td>1.148538e+04</td>\n",
       "      <td>17.109175</td>\n",
       "      <td>17.873014</td>\n",
       "      <td>86.375138</td>\n",
       "      <td>1.619393</td>\n",
       "      <td>4.934279</td>\n",
       "      <td>13.150915</td>\n",
       "      <td>0.054578</td>\n",
       "      <td>0.171809</td>\n",
       "      <td>1.354629</td>\n",
       "    </tr>\n",
       "    <tr>\n",
       "      <th>std</th>\n",
       "      <td>2.802548e+15</td>\n",
       "      <td>3.205234e+05</td>\n",
       "      <td>4.489505</td>\n",
       "      <td>4.888689</td>\n",
       "      <td>20.860920</td>\n",
       "      <td>0.860497</td>\n",
       "      <td>0.890247</td>\n",
       "      <td>5.740491</td>\n",
       "      <td>0.295430</td>\n",
       "      <td>0.246453</td>\n",
       "      <td>0.495597</td>\n",
       "    </tr>\n",
       "    <tr>\n",
       "      <th>min</th>\n",
       "      <td>2.000000e+01</td>\n",
       "      <td>0.000000e+00</td>\n",
       "      <td>10.000000</td>\n",
       "      <td>8.000000</td>\n",
       "      <td>25.000000</td>\n",
       "      <td>1.000000</td>\n",
       "      <td>0.597701</td>\n",
       "      <td>1.000000</td>\n",
       "      <td>-1.000000</td>\n",
       "      <td>0.000000</td>\n",
       "      <td>1.000000</td>\n",
       "    </tr>\n",
       "    <tr>\n",
       "      <th>25%</th>\n",
       "      <td>7.848116e+17</td>\n",
       "      <td>9.200000e+01</td>\n",
       "      <td>13.000000</td>\n",
       "      <td>14.000000</td>\n",
       "      <td>70.000000</td>\n",
       "      <td>1.000000</td>\n",
       "      <td>4.333333</td>\n",
       "      <td>9.000000</td>\n",
       "      <td>0.000000</td>\n",
       "      <td>0.000000</td>\n",
       "      <td>1.000000</td>\n",
       "    </tr>\n",
       "    <tr>\n",
       "      <th>50%</th>\n",
       "      <td>7.852274e+17</td>\n",
       "      <td>4.330000e+02</td>\n",
       "      <td>17.000000</td>\n",
       "      <td>18.000000</td>\n",
       "      <td>90.000000</td>\n",
       "      <td>1.000000</td>\n",
       "      <td>4.833333</td>\n",
       "      <td>12.000000</td>\n",
       "      <td>0.000000</td>\n",
       "      <td>0.000000</td>\n",
       "      <td>1.000000</td>\n",
       "    </tr>\n",
       "    <tr>\n",
       "      <th>75%</th>\n",
       "      <td>7.856449e+17</td>\n",
       "      <td>1.722000e+03</td>\n",
       "      <td>20.000000</td>\n",
       "      <td>21.000000</td>\n",
       "      <td>101.000000</td>\n",
       "      <td>2.000000</td>\n",
       "      <td>5.409091</td>\n",
       "      <td>17.000000</td>\n",
       "      <td>0.136364</td>\n",
       "      <td>0.300000</td>\n",
       "      <td>2.000000</td>\n",
       "    </tr>\n",
       "    <tr>\n",
       "      <th>max</th>\n",
       "      <td>7.863471e+17</td>\n",
       "      <td>3.082208e+07</td>\n",
       "      <td>46.000000</td>\n",
       "      <td>87.000000</td>\n",
       "      <td>134.000000</td>\n",
       "      <td>22.000000</td>\n",
       "      <td>13.500000</td>\n",
       "      <td>87.000000</td>\n",
       "      <td>1.000000</td>\n",
       "      <td>1.000000</td>\n",
       "      <td>3.000000</td>\n",
       "    </tr>\n",
       "  </tbody>\n",
       "</table>\n",
       "</div>"
      ],
      "text/plain": [
       "            TweetID     Followers            WC    word_count    char_count  \\\n",
       "count  8.264700e+04  8.264700e+04  82647.000000  82647.000000  82647.000000   \n",
       "mean   7.851709e+17  1.148538e+04     17.109175     17.873014     86.375138   \n",
       "std    2.802548e+15  3.205234e+05      4.489505      4.888689     20.860920   \n",
       "min    2.000000e+01  0.000000e+00     10.000000      8.000000     25.000000   \n",
       "25%    7.848116e+17  9.200000e+01     13.000000     14.000000     70.000000   \n",
       "50%    7.852274e+17  4.330000e+02     17.000000     18.000000     90.000000   \n",
       "75%    7.856449e+17  1.722000e+03     20.000000     21.000000    101.000000   \n",
       "max    7.863471e+17  3.082208e+07     46.000000     87.000000    134.000000   \n",
       "\n",
       "       sentence_count  avg_word_length  avg_sentence_length     sentiment  \\\n",
       "count    82647.000000     82647.000000         82647.000000  82647.000000   \n",
       "mean         1.619393         4.934279            13.150915      0.054578   \n",
       "std          0.860497         0.890247             5.740491      0.295430   \n",
       "min          1.000000         0.597701             1.000000     -1.000000   \n",
       "25%          1.000000         4.333333             9.000000      0.000000   \n",
       "50%          1.000000         4.833333            12.000000      0.000000   \n",
       "75%          2.000000         5.409091            17.000000      0.136364   \n",
       "max         22.000000        13.500000            87.000000      1.000000   \n",
       "\n",
       "       sentiment_abs         group  \n",
       "count   82647.000000  82647.000000  \n",
       "mean        0.171809      1.354629  \n",
       "std         0.246453      0.495597  \n",
       "min         0.000000      1.000000  \n",
       "25%         0.000000      1.000000  \n",
       "50%         0.000000      1.000000  \n",
       "75%         0.300000      2.000000  \n",
       "max         1.000000      3.000000  "
      ]
     },
     "execution_count": 63,
     "metadata": {},
     "output_type": "execute_result"
    }
   ],
   "source": [
    "df2.describe()"
   ]
  },
  {
   "cell_type": "markdown",
   "metadata": {},
   "source": [
    "#### Plot word count stats by keyword"
   ]
  },
  {
   "cell_type": "code",
   "execution_count": 12,
   "metadata": {},
   "outputs": [
    {
     "data": {
      "image/png": "[encoded data removed]",
      "text/plain": [
       "<Figure size 720x288 with 2 Axes>"
      ]
     },
     "metadata": {
      "needs_background": "light"
     },
     "output_type": "display_data"
    }
   ],
   "source": [
    "x, y = \"char_count\", \"Keyword\"\n",
    "fig,ax = plot_distribution(x,y)\n",
    "plt.show()"
   ]
  },
  {
   "cell_type": "code",
   "execution_count": 14,
   "metadata": {},
   "outputs": [
    {
     "data": {
      "image/png": "[encoded data removed]",
      "text/plain": [
       "<Figure size 720x288 with 2 Axes>"
      ]
     },
     "metadata": {
      "needs_background": "light"
     },
     "output_type": "display_data"
    }
   ],
   "source": [
    "x, y = \"word_count\", \"Keyword\"\n",
    "fig,ax = plot_distribution(x,y)\n",
    "plt.show()"
   ]
  },
  {
   "cell_type": "code",
   "execution_count": 15,
   "metadata": {},
   "outputs": [
    {
     "data": {
      "image/png": "[encoded data removed]",
      "text/plain": [
       "<Figure size 720x288 with 2 Axes>"
      ]
     },
     "metadata": {
      "needs_background": "light"
     },
     "output_type": "display_data"
    }
   ],
   "source": [
    "x, y = \"avg_sentence_length\", \"Keyword\"\n",
    "fig,ax = plot_distribution(x,y)\n",
    "plt.show()"
   ]
  },
  {
   "cell_type": "code",
   "execution_count": 16,
   "metadata": {},
   "outputs": [
    {
     "data": {
      "image/png": "[encoded data removed]",
      "text/plain": [
       "<Figure size 720x288 with 2 Axes>"
      ]
     },
     "metadata": {
      "needs_background": "light"
     },
     "output_type": "display_data"
    }
   ],
   "source": [
    "x, y = \"sentence_count\", \"Keyword\"\n",
    "fig,ax = plot_distribution(x,y)\n",
    "plt.show()"
   ]
  },
  {
   "cell_type": "markdown",
   "metadata": {},
   "source": [
    "### 2. Sentiment Analysis"
   ]
  },
  {
   "cell_type": "markdown",
   "metadata": {},
   "source": [
    "#### 2.1 Vader"
   ]
  },
  {
   "cell_type": "code",
   "execution_count": 13,
   "metadata": {},
   "outputs": [
    {
     "data": {
      "text/html": [
       "<div>\n",
       "<style scoped>\n",
       "    .dataframe tbody tr th:only-of-type {\n",
       "        vertical-align: middle;\n",
       "    }\n",
       "\n",
       "    .dataframe tbody tr th {\n",
       "        vertical-align: top;\n",
       "    }\n",
       "\n",
       "    .dataframe thead th {\n",
       "        text-align: right;\n",
       "    }\n",
       "</style>\n",
       "<table border=\"1\" class=\"dataframe\">\n",
       "  <thead>\n",
       "    <tr style=\"text-align: right;\">\n",
       "      <th></th>\n",
       "      <th>Keyword</th>\n",
       "      <th>Handle</th>\n",
       "      <th>TimeStamp</th>\n",
       "      <th>TweetID</th>\n",
       "      <th>Text</th>\n",
       "      <th>Followers</th>\n",
       "      <th>WC</th>\n",
       "      <th>Text_Clean</th>\n",
       "      <th>word_count</th>\n",
       "      <th>char_count</th>\n",
       "      <th>sentence_count</th>\n",
       "      <th>avg_word_length</th>\n",
       "      <th>avg_sentence_length</th>\n",
       "      <th>sentiment_vader</th>\n",
       "    </tr>\n",
       "  </thead>\n",
       "  <tbody>\n",
       "    <tr>\n",
       "      <th>0</th>\n",
       "      <td>Clinton</td>\n",
       "      <td>CrabbyAbbey1</td>\n",
       "      <td>2016-10-07 00:00:06+00:00</td>\n",
       "      <td>7.841815e+17</td>\n",
       "      <td>@SarahKSilverman If you have to lie to win you...</td>\n",
       "      <td>1</td>\n",
       "      <td>16</td>\n",
       "      <td>lie win work clinton that pretti deplor</td>\n",
       "      <td>16</td>\n",
       "      <td>82</td>\n",
       "      <td>2</td>\n",
       "      <td>5.125000</td>\n",
       "      <td>8.0</td>\n",
       "      <td>{'neg': 0.0, 'neu': 0.612, 'pos': 0.388, 'comp...</td>\n",
       "    </tr>\n",
       "    <tr>\n",
       "      <th>1</th>\n",
       "      <td>Clinton</td>\n",
       "      <td>Marianne_Summer</td>\n",
       "      <td>2016-10-07 00:00:26+00:00</td>\n",
       "      <td>7.841816e+17</td>\n",
       "      <td>Here's how much Hillary Clinton paid in taxes ...</td>\n",
       "      <td>2</td>\n",
       "      <td>11</td>\n",
       "      <td>here much hillari clinton paid tax last year</td>\n",
       "      <td>11</td>\n",
       "      <td>49</td>\n",
       "      <td>1</td>\n",
       "      <td>4.454545</td>\n",
       "      <td>11.0</td>\n",
       "      <td>{'neg': 0.0, 'neu': 1.0, 'pos': 0.0, 'compound...</td>\n",
       "    </tr>\n",
       "    <tr>\n",
       "      <th>2</th>\n",
       "      <td>Trump</td>\n",
       "      <td>SAcurrent</td>\n",
       "      <td>2016-10-07 00:00:32+00:00</td>\n",
       "      <td>7.841816e+17</td>\n",
       "      <td>Protesters at Trump's SA Fundraiser Were Passi...</td>\n",
       "      <td>78082</td>\n",
       "      <td>11</td>\n",
       "      <td>protest trump sa fundrais passion peac</td>\n",
       "      <td>11</td>\n",
       "      <td>62</td>\n",
       "      <td>1</td>\n",
       "      <td>5.636364</td>\n",
       "      <td>11.0</td>\n",
       "      <td>{'neg': 0.222, 'neu': 0.444, 'pos': 0.333, 'co...</td>\n",
       "    </tr>\n",
       "  </tbody>\n",
       "</table>\n",
       "</div>"
      ],
      "text/plain": [
       "   Keyword           Handle                 TimeStamp       TweetID  \\\n",
       "0  Clinton     CrabbyAbbey1 2016-10-07 00:00:06+00:00  7.841815e+17   \n",
       "1  Clinton  Marianne_Summer 2016-10-07 00:00:26+00:00  7.841816e+17   \n",
       "2    Trump        SAcurrent 2016-10-07 00:00:32+00:00  7.841816e+17   \n",
       "\n",
       "                                                Text  Followers  WC  \\\n",
       "0  @SarahKSilverman If you have to lie to win you...          1  16   \n",
       "1  Here's how much Hillary Clinton paid in taxes ...          2  11   \n",
       "2  Protesters at Trump's SA Fundraiser Were Passi...      78082  11   \n",
       "\n",
       "                                     Text_Clean  word_count  char_count  \\\n",
       "0       lie win work clinton that pretti deplor          16          82   \n",
       "1  here much hillari clinton paid tax last year          11          49   \n",
       "2        protest trump sa fundrais passion peac          11          62   \n",
       "\n",
       "   sentence_count  avg_word_length  avg_sentence_length  \\\n",
       "0               2         5.125000                  8.0   \n",
       "1               1         4.454545                 11.0   \n",
       "2               1         5.636364                 11.0   \n",
       "\n",
       "                                     sentiment_vader  \n",
       "0  {'neg': 0.0, 'neu': 0.612, 'pos': 0.388, 'comp...  \n",
       "1  {'neg': 0.0, 'neu': 1.0, 'pos': 0.0, 'compound...  \n",
       "2  {'neg': 0.222, 'neu': 0.444, 'pos': 0.333, 'co...  "
      ]
     },
     "execution_count": 13,
     "metadata": {},
     "output_type": "execute_result"
    }
   ],
   "source": [
    "analyzer = SentimentIntensityAnalyzer()\n",
    "\n",
    "df2[\"sentiment_vader\"] = df2['Text_Clean'].apply(lambda x: analyzer.polarity_scores(x)['compound'])\n",
    "df2.head(3)"
   ]
  },
  {
   "cell_type": "markdown",
   "metadata": {},
   "source": [
    "#### 2.2 TextBlob"
   ]
  },
  {
   "cell_type": "code",
   "execution_count": 17,
   "metadata": {},
   "outputs": [
    {
     "data": {
      "text/html": [
       "<div>\n",
       "<style scoped>\n",
       "    .dataframe tbody tr th:only-of-type {\n",
       "        vertical-align: middle;\n",
       "    }\n",
       "\n",
       "    .dataframe tbody tr th {\n",
       "        vertical-align: top;\n",
       "    }\n",
       "\n",
       "    .dataframe thead th {\n",
       "        text-align: right;\n",
       "    }\n",
       "</style>\n",
       "<table border=\"1\" class=\"dataframe\">\n",
       "  <thead>\n",
       "    <tr style=\"text-align: right;\">\n",
       "      <th></th>\n",
       "      <th>Keyword</th>\n",
       "      <th>Handle</th>\n",
       "      <th>TimeStamp</th>\n",
       "      <th>TweetID</th>\n",
       "      <th>Text</th>\n",
       "      <th>Followers</th>\n",
       "      <th>WC</th>\n",
       "      <th>Text_Clean</th>\n",
       "      <th>word_count</th>\n",
       "      <th>char_count</th>\n",
       "      <th>sentence_count</th>\n",
       "      <th>avg_word_length</th>\n",
       "      <th>avg_sentence_length</th>\n",
       "      <th>sentiment</th>\n",
       "    </tr>\n",
       "  </thead>\n",
       "  <tbody>\n",
       "    <tr>\n",
       "      <th>0</th>\n",
       "      <td>Clinton</td>\n",
       "      <td>CrabbyAbbey1</td>\n",
       "      <td>2016-10-07 00:00:06+00:00</td>\n",
       "      <td>7.841815e+17</td>\n",
       "      <td>@SarahKSilverman If you have to lie to win you...</td>\n",
       "      <td>1</td>\n",
       "      <td>16</td>\n",
       "      <td>lie win work clinton that pretti deplor</td>\n",
       "      <td>16</td>\n",
       "      <td>82</td>\n",
       "      <td>2</td>\n",
       "      <td>5.125000</td>\n",
       "      <td>8.0</td>\n",
       "      <td>0.8</td>\n",
       "    </tr>\n",
       "    <tr>\n",
       "      <th>1</th>\n",
       "      <td>Clinton</td>\n",
       "      <td>Marianne_Summer</td>\n",
       "      <td>2016-10-07 00:00:26+00:00</td>\n",
       "      <td>7.841816e+17</td>\n",
       "      <td>Here's how much Hillary Clinton paid in taxes ...</td>\n",
       "      <td>2</td>\n",
       "      <td>11</td>\n",
       "      <td>here much hillari clinton paid tax last year</td>\n",
       "      <td>11</td>\n",
       "      <td>49</td>\n",
       "      <td>1</td>\n",
       "      <td>4.454545</td>\n",
       "      <td>11.0</td>\n",
       "      <td>0.1</td>\n",
       "    </tr>\n",
       "    <tr>\n",
       "      <th>2</th>\n",
       "      <td>Trump</td>\n",
       "      <td>SAcurrent</td>\n",
       "      <td>2016-10-07 00:00:32+00:00</td>\n",
       "      <td>7.841816e+17</td>\n",
       "      <td>Protesters at Trump's SA Fundraiser Were Passi...</td>\n",
       "      <td>78082</td>\n",
       "      <td>11</td>\n",
       "      <td>protest trump sa fundrais passion peac</td>\n",
       "      <td>11</td>\n",
       "      <td>62</td>\n",
       "      <td>1</td>\n",
       "      <td>5.636364</td>\n",
       "      <td>11.0</td>\n",
       "      <td>0.0</td>\n",
       "    </tr>\n",
       "  </tbody>\n",
       "</table>\n",
       "</div>"
      ],
      "text/plain": [
       "   Keyword           Handle                 TimeStamp       TweetID  \\\n",
       "0  Clinton     CrabbyAbbey1 2016-10-07 00:00:06+00:00  7.841815e+17   \n",
       "1  Clinton  Marianne_Summer 2016-10-07 00:00:26+00:00  7.841816e+17   \n",
       "2    Trump        SAcurrent 2016-10-07 00:00:32+00:00  7.841816e+17   \n",
       "\n",
       "                                                Text  Followers  WC  \\\n",
       "0  @SarahKSilverman If you have to lie to win you...          1  16   \n",
       "1  Here's how much Hillary Clinton paid in taxes ...          2  11   \n",
       "2  Protesters at Trump's SA Fundraiser Were Passi...      78082  11   \n",
       "\n",
       "                                     Text_Clean  word_count  char_count  \\\n",
       "0       lie win work clinton that pretti deplor          16          82   \n",
       "1  here much hillari clinton paid tax last year          11          49   \n",
       "2        protest trump sa fundrais passion peac          11          62   \n",
       "\n",
       "   sentence_count  avg_word_length  avg_sentence_length  sentiment  \n",
       "0               2         5.125000                  8.0        0.8  \n",
       "1               1         4.454545                 11.0        0.1  \n",
       "2               1         5.636364                 11.0        0.0  "
      ]
     },
     "execution_count": 17,
     "metadata": {},
     "output_type": "execute_result"
    }
   ],
   "source": [
    "df2[\"sentiment\"] = df2['Text_Clean'].apply(lambda x: TextBlob(x).sentiment.polarity)\n",
    "df2.head(3)"
   ]
  },
  {
   "cell_type": "code",
   "execution_count": null,
   "metadata": {},
   "outputs": [],
   "source": [
    "sentiment_col = \"sentiment\""
   ]
  },
  {
   "cell_type": "code",
   "execution_count": 18,
   "metadata": {},
   "outputs": [
    {
     "data": {
      "image/png": "[encoded data removed]",
      "text/plain": [
       "<Figure size 720x288 with 2 Axes>"
      ]
     },
     "metadata": {
      "needs_background": "light"
     },
     "output_type": "display_data"
    }
   ],
   "source": [
    "x, y = sentiment_col, \"Keyword\"\n",
    "fig,ax = plot_distribution(x,y)\n",
    "plt.show()"
   ]
  },
  {
   "cell_type": "code",
   "execution_count": 19,
   "metadata": {},
   "outputs": [
    {
     "data": {
      "text/html": [
       "<div>\n",
       "<style scoped>\n",
       "    .dataframe tbody tr th:only-of-type {\n",
       "        vertical-align: middle;\n",
       "    }\n",
       "\n",
       "    .dataframe tbody tr th {\n",
       "        vertical-align: top;\n",
       "    }\n",
       "\n",
       "    .dataframe thead th {\n",
       "        text-align: right;\n",
       "    }\n",
       "</style>\n",
       "<table border=\"1\" class=\"dataframe\">\n",
       "  <thead>\n",
       "    <tr style=\"text-align: right;\">\n",
       "      <th></th>\n",
       "      <th>count</th>\n",
       "      <th>mean</th>\n",
       "      <th>std</th>\n",
       "      <th>min</th>\n",
       "      <th>25%</th>\n",
       "      <th>50%</th>\n",
       "      <th>75%</th>\n",
       "      <th>max</th>\n",
       "    </tr>\n",
       "    <tr>\n",
       "      <th>Keyword</th>\n",
       "      <th></th>\n",
       "      <th></th>\n",
       "      <th></th>\n",
       "      <th></th>\n",
       "      <th></th>\n",
       "      <th></th>\n",
       "      <th></th>\n",
       "      <th></th>\n",
       "    </tr>\n",
       "  </thead>\n",
       "  <tbody>\n",
       "    <tr>\n",
       "      <th>Both</th>\n",
       "      <td>7052.0</td>\n",
       "      <td>0.040446</td>\n",
       "      <td>0.276128</td>\n",
       "      <td>-1.0</td>\n",
       "      <td>0.0</td>\n",
       "      <td>0.0</td>\n",
       "      <td>0.100000</td>\n",
       "      <td>1.0</td>\n",
       "    </tr>\n",
       "    <tr>\n",
       "      <th>Clinton</th>\n",
       "      <td>18999.0</td>\n",
       "      <td>0.035836</td>\n",
       "      <td>0.279659</td>\n",
       "      <td>-1.0</td>\n",
       "      <td>0.0</td>\n",
       "      <td>0.0</td>\n",
       "      <td>0.068182</td>\n",
       "      <td>1.0</td>\n",
       "    </tr>\n",
       "    <tr>\n",
       "      <th>Election-General</th>\n",
       "      <td>14734.0</td>\n",
       "      <td>0.073691</td>\n",
       "      <td>0.318641</td>\n",
       "      <td>-1.0</td>\n",
       "      <td>0.0</td>\n",
       "      <td>0.0</td>\n",
       "      <td>0.200000</td>\n",
       "      <td>1.0</td>\n",
       "    </tr>\n",
       "    <tr>\n",
       "      <th>Trump</th>\n",
       "      <td>41862.0</td>\n",
       "      <td>0.058738</td>\n",
       "      <td>0.296486</td>\n",
       "      <td>-1.0</td>\n",
       "      <td>0.0</td>\n",
       "      <td>0.0</td>\n",
       "      <td>0.136364</td>\n",
       "      <td>1.0</td>\n",
       "    </tr>\n",
       "  </tbody>\n",
       "</table>\n",
       "</div>"
      ],
      "text/plain": [
       "                    count      mean       std  min  25%  50%       75%  max\n",
       "Keyword                                                                    \n",
       "Both               7052.0  0.040446  0.276128 -1.0  0.0  0.0  0.100000  1.0\n",
       "Clinton           18999.0  0.035836  0.279659 -1.0  0.0  0.0  0.068182  1.0\n",
       "Election-General  14734.0  0.073691  0.318641 -1.0  0.0  0.0  0.200000  1.0\n",
       "Trump             41862.0  0.058738  0.296486 -1.0  0.0  0.0  0.136364  1.0"
      ]
     },
     "execution_count": 19,
     "metadata": {},
     "output_type": "execute_result"
    }
   ],
   "source": [
    "df2.groupby('Keyword')[sentiment_col].describe()"
   ]
  },
  {
   "cell_type": "code",
   "execution_count": 20,
   "metadata": {},
   "outputs": [
    {
     "name": "stdout",
     "output_type": "stream",
     "text": [
      "Ttest_indResult(statistic=8.986334585573342, pvalue=2.6271988646916943e-19)\n",
      "Ttest_indResult(statistic=9.185570777439535, pvalue=4.2902677047367086e-20)\n"
     ]
    }
   ],
   "source": [
    "# t test on whether there's difference on the sentiment of Trump VS Clinton\n",
    "print(stats.ttest_ind(df2.loc[df2['Keyword']=='Trump',sentiment_col], df2.loc[df2['Keyword']=='Clinton',sentiment_col]))\n",
    "print(stats.ttest_ind(df2.loc[df2['Keyword']=='Trump',sentiment_col], df2.loc[df2['Keyword']=='Clinton',sentiment_col],equal_var=False))"
   ]
  },
  {
   "cell_type": "code",
   "execution_count": 64,
   "metadata": {},
   "outputs": [
    {
     "data": {
      "text/html": [
       "<div>\n",
       "<style scoped>\n",
       "    .dataframe tbody tr th:only-of-type {\n",
       "        vertical-align: middle;\n",
       "    }\n",
       "\n",
       "    .dataframe tbody tr th {\n",
       "        vertical-align: top;\n",
       "    }\n",
       "\n",
       "    .dataframe thead th {\n",
       "        text-align: right;\n",
       "    }\n",
       "</style>\n",
       "<table border=\"1\" class=\"dataframe\">\n",
       "  <thead>\n",
       "    <tr style=\"text-align: right;\">\n",
       "      <th></th>\n",
       "      <th>Followers</th>\n",
       "      <th>sentiment</th>\n",
       "    </tr>\n",
       "  </thead>\n",
       "  <tbody>\n",
       "    <tr>\n",
       "      <th>Followers</th>\n",
       "      <td>1.000000</td>\n",
       "      <td>0.001611</td>\n",
       "    </tr>\n",
       "    <tr>\n",
       "      <th>sentiment</th>\n",
       "      <td>0.001611</td>\n",
       "      <td>1.000000</td>\n",
       "    </tr>\n",
       "  </tbody>\n",
       "</table>\n",
       "</div>"
      ],
      "text/plain": [
       "           Followers  sentiment\n",
       "Followers   1.000000   0.001611\n",
       "sentiment   0.001611   1.000000"
      ]
     },
     "execution_count": 64,
     "metadata": {},
     "output_type": "execute_result"
    }
   ],
   "source": [
    "df2[['Followers',sentiment_col]].corr()"
   ]
  },
  {
   "cell_type": "code",
   "execution_count": 65,
   "metadata": {},
   "outputs": [
    {
     "data": {
      "text/html": [
       "<div>\n",
       "<style scoped>\n",
       "    .dataframe tbody tr th:only-of-type {\n",
       "        vertical-align: middle;\n",
       "    }\n",
       "\n",
       "    .dataframe tbody tr th {\n",
       "        vertical-align: top;\n",
       "    }\n",
       "\n",
       "    .dataframe thead th {\n",
       "        text-align: right;\n",
       "    }\n",
       "</style>\n",
       "<table border=\"1\" class=\"dataframe\">\n",
       "  <thead>\n",
       "    <tr style=\"text-align: right;\">\n",
       "      <th></th>\n",
       "      <th>Followers</th>\n",
       "      <th>sentiment_abs</th>\n",
       "    </tr>\n",
       "  </thead>\n",
       "  <tbody>\n",
       "    <tr>\n",
       "      <th>Followers</th>\n",
       "      <td>1.000000</td>\n",
       "      <td>-0.003919</td>\n",
       "    </tr>\n",
       "    <tr>\n",
       "      <th>sentiment_abs</th>\n",
       "      <td>-0.003919</td>\n",
       "      <td>1.000000</td>\n",
       "    </tr>\n",
       "  </tbody>\n",
       "</table>\n",
       "</div>"
      ],
      "text/plain": [
       "               Followers  sentiment_abs\n",
       "Followers       1.000000      -0.003919\n",
       "sentiment_abs  -0.003919       1.000000"
      ]
     },
     "execution_count": 65,
     "metadata": {},
     "output_type": "execute_result"
    }
   ],
   "source": [
    "sentiment_col_abs = f'{sentiment_col}_abs'\n",
    "df2[sentiment_col_abs] = abs(df2[sentiment_col])\n",
    "df2[['Followers',sentiment_col_abs]].corr()"
   ]
  },
  {
   "cell_type": "code",
   "execution_count": 23,
   "metadata": {},
   "outputs": [
    {
     "data": {
      "text/html": [
       "<div>\n",
       "<style scoped>\n",
       "    .dataframe tbody tr th:only-of-type {\n",
       "        vertical-align: middle;\n",
       "    }\n",
       "\n",
       "    .dataframe tbody tr th {\n",
       "        vertical-align: top;\n",
       "    }\n",
       "\n",
       "    .dataframe thead th {\n",
       "        text-align: right;\n",
       "    }\n",
       "</style>\n",
       "<table border=\"1\" class=\"dataframe\">\n",
       "  <thead>\n",
       "    <tr style=\"text-align: right;\">\n",
       "      <th></th>\n",
       "      <th>count</th>\n",
       "      <th>mean</th>\n",
       "      <th>std</th>\n",
       "      <th>min</th>\n",
       "      <th>25%</th>\n",
       "      <th>50%</th>\n",
       "      <th>75%</th>\n",
       "      <th>max</th>\n",
       "    </tr>\n",
       "    <tr>\n",
       "      <th>Keyword</th>\n",
       "      <th></th>\n",
       "      <th></th>\n",
       "      <th></th>\n",
       "      <th></th>\n",
       "      <th></th>\n",
       "      <th></th>\n",
       "      <th></th>\n",
       "      <th></th>\n",
       "    </tr>\n",
       "  </thead>\n",
       "  <tbody>\n",
       "    <tr>\n",
       "      <th>Both</th>\n",
       "      <td>7052.0</td>\n",
       "      <td>20937.130459</td>\n",
       "      <td>526466.557266</td>\n",
       "      <td>0.0</td>\n",
       "      <td>77.0</td>\n",
       "      <td>421.5</td>\n",
       "      <td>1805.5</td>\n",
       "      <td>30791230.0</td>\n",
       "    </tr>\n",
       "    <tr>\n",
       "      <th>Clinton</th>\n",
       "      <td>18999.0</td>\n",
       "      <td>9412.721564</td>\n",
       "      <td>328857.433726</td>\n",
       "      <td>0.0</td>\n",
       "      <td>96.0</td>\n",
       "      <td>500.0</td>\n",
       "      <td>1964.0</td>\n",
       "      <td>30730837.0</td>\n",
       "    </tr>\n",
       "    <tr>\n",
       "      <th>Election-General</th>\n",
       "      <td>14734.0</td>\n",
       "      <td>3756.097462</td>\n",
       "      <td>52380.240016</td>\n",
       "      <td>0.0</td>\n",
       "      <td>107.0</td>\n",
       "      <td>404.5</td>\n",
       "      <td>1427.0</td>\n",
       "      <td>5186908.0</td>\n",
       "    </tr>\n",
       "    <tr>\n",
       "      <th>Trump</th>\n",
       "      <td>41862.0</td>\n",
       "      <td>13554.278630</td>\n",
       "      <td>325661.135927</td>\n",
       "      <td>0.0</td>\n",
       "      <td>89.0</td>\n",
       "      <td>422.0</td>\n",
       "      <td>1703.0</td>\n",
       "      <td>30822080.0</td>\n",
       "    </tr>\n",
       "  </tbody>\n",
       "</table>\n",
       "</div>"
      ],
      "text/plain": [
       "                    count          mean            std  min    25%    50%  \\\n",
       "Keyword                                                                     \n",
       "Both               7052.0  20937.130459  526466.557266  0.0   77.0  421.5   \n",
       "Clinton           18999.0   9412.721564  328857.433726  0.0   96.0  500.0   \n",
       "Election-General  14734.0   3756.097462   52380.240016  0.0  107.0  404.5   \n",
       "Trump             41862.0  13554.278630  325661.135927  0.0   89.0  422.0   \n",
       "\n",
       "                     75%         max  \n",
       "Keyword                               \n",
       "Both              1805.5  30791230.0  \n",
       "Clinton           1964.0  30730837.0  \n",
       "Election-General  1427.0   5186908.0  \n",
       "Trump             1703.0  30822080.0  "
      ]
     },
     "execution_count": 23,
     "metadata": {},
     "output_type": "execute_result"
    }
   ],
   "source": [
    "df2.groupby('Keyword')['Followers'].describe()"
   ]
  },
  {
   "cell_type": "code",
   "execution_count": 24,
   "metadata": {},
   "outputs": [
    {
     "name": "stdout",
     "output_type": "stream",
     "text": [
      "-1852.0 3292.0\n"
     ]
    }
   ],
   "source": [
    "# try to split the users posts by #followers they have\n",
    "num_followers_list = df2.drop_duplicates(subset = 'Handle')['Followers']\n",
    "q1, q3 = num_followers_list.quantile([.25,.75])\n",
    "lower_boundary = q1-1.5*(q3-q1)\n",
    "higher_boundary = q3+1.5*(q3-q1)\n",
    "print(lower_boundary,higher_boundary)"
   ]
  },
  {
   "cell_type": "code",
   "execution_count": 66,
   "metadata": {},
   "outputs": [],
   "source": [
    "df2['group'] = '<1k followers'\n",
    "df2.loc[df2['Followers']>=1e3,'group'] = '1k~100k followers'\n",
    "df2.loc[df2['Followers']>=1e5,'group'] = '>=100k followers'"
   ]
  },
  {
   "cell_type": "code",
   "execution_count": 68,
   "metadata": {},
   "outputs": [
    {
     "data": {
      "text/html": [
       "<div>\n",
       "<style scoped>\n",
       "    .dataframe tbody tr th:only-of-type {\n",
       "        vertical-align: middle;\n",
       "    }\n",
       "\n",
       "    .dataframe tbody tr th {\n",
       "        vertical-align: top;\n",
       "    }\n",
       "\n",
       "    .dataframe thead th {\n",
       "        text-align: right;\n",
       "    }\n",
       "</style>\n",
       "<table border=\"1\" class=\"dataframe\">\n",
       "  <thead>\n",
       "    <tr style=\"text-align: right;\">\n",
       "      <th></th>\n",
       "      <th>count</th>\n",
       "      <th>mean</th>\n",
       "      <th>std</th>\n",
       "      <th>min</th>\n",
       "      <th>25%</th>\n",
       "      <th>50%</th>\n",
       "      <th>75%</th>\n",
       "      <th>max</th>\n",
       "    </tr>\n",
       "    <tr>\n",
       "      <th>group</th>\n",
       "      <th></th>\n",
       "      <th></th>\n",
       "      <th></th>\n",
       "      <th></th>\n",
       "      <th></th>\n",
       "      <th></th>\n",
       "      <th></th>\n",
       "      <th></th>\n",
       "    </tr>\n",
       "  </thead>\n",
       "  <tbody>\n",
       "    <tr>\n",
       "      <th>&lt;1k followers</th>\n",
       "      <td>54030.0</td>\n",
       "      <td>0.055896</td>\n",
       "      <td>0.298842</td>\n",
       "      <td>-1.0</td>\n",
       "      <td>0.0</td>\n",
       "      <td>0.0</td>\n",
       "      <td>0.136364</td>\n",
       "      <td>1.0</td>\n",
       "    </tr>\n",
       "    <tr>\n",
       "      <th>1k~100k followers</th>\n",
       "      <td>27925.0</td>\n",
       "      <td>0.051843</td>\n",
       "      <td>0.288904</td>\n",
       "      <td>-1.0</td>\n",
       "      <td>0.0</td>\n",
       "      <td>0.0</td>\n",
       "      <td>0.125000</td>\n",
       "      <td>1.0</td>\n",
       "    </tr>\n",
       "    <tr>\n",
       "      <th>&gt;=100k followers</th>\n",
       "      <td>692.0</td>\n",
       "      <td>0.062008</td>\n",
       "      <td>0.287355</td>\n",
       "      <td>-1.0</td>\n",
       "      <td>0.0</td>\n",
       "      <td>0.0</td>\n",
       "      <td>0.119886</td>\n",
       "      <td>1.0</td>\n",
       "    </tr>\n",
       "  </tbody>\n",
       "</table>\n",
       "</div>"
      ],
      "text/plain": [
       "                     count      mean       std  min  25%  50%       75%  max\n",
       "group                                                                       \n",
       "<1k followers      54030.0  0.055896  0.298842 -1.0  0.0  0.0  0.136364  1.0\n",
       "1k~100k followers  27925.0  0.051843  0.288904 -1.0  0.0  0.0  0.125000  1.0\n",
       ">=100k followers     692.0  0.062008  0.287355 -1.0  0.0  0.0  0.119886  1.0"
      ]
     },
     "execution_count": 68,
     "metadata": {},
     "output_type": "execute_result"
    }
   ],
   "source": [
    "df2.groupby(['group'])[sentiment_col].describe().sort_values(by='count',ascending=False)"
   ]
  },
  {
   "cell_type": "code",
   "execution_count": 70,
   "metadata": {},
   "outputs": [
    {
     "data": {
      "text/html": [
       "<div>\n",
       "<style scoped>\n",
       "    .dataframe tbody tr th:only-of-type {\n",
       "        vertical-align: middle;\n",
       "    }\n",
       "\n",
       "    .dataframe tbody tr th {\n",
       "        vertical-align: top;\n",
       "    }\n",
       "\n",
       "    .dataframe thead th {\n",
       "        text-align: right;\n",
       "    }\n",
       "</style>\n",
       "<table border=\"1\" class=\"dataframe\">\n",
       "  <thead>\n",
       "    <tr style=\"text-align: right;\">\n",
       "      <th></th>\n",
       "      <th>count</th>\n",
       "      <th>mean</th>\n",
       "      <th>std</th>\n",
       "      <th>min</th>\n",
       "      <th>25%</th>\n",
       "      <th>50%</th>\n",
       "      <th>75%</th>\n",
       "      <th>max</th>\n",
       "    </tr>\n",
       "    <tr>\n",
       "      <th>group</th>\n",
       "      <th></th>\n",
       "      <th></th>\n",
       "      <th></th>\n",
       "      <th></th>\n",
       "      <th></th>\n",
       "      <th></th>\n",
       "      <th></th>\n",
       "      <th></th>\n",
       "    </tr>\n",
       "  </thead>\n",
       "  <tbody>\n",
       "    <tr>\n",
       "      <th>&lt;1k followers</th>\n",
       "      <td>54030.0</td>\n",
       "      <td>0.175480</td>\n",
       "      <td>0.248268</td>\n",
       "      <td>0.0</td>\n",
       "      <td>0.0</td>\n",
       "      <td>0.0</td>\n",
       "      <td>0.300</td>\n",
       "      <td>1.0</td>\n",
       "    </tr>\n",
       "    <tr>\n",
       "      <th>1k~100k followers</th>\n",
       "      <td>27925.0</td>\n",
       "      <td>0.165027</td>\n",
       "      <td>0.242731</td>\n",
       "      <td>0.0</td>\n",
       "      <td>0.0</td>\n",
       "      <td>0.0</td>\n",
       "      <td>0.275</td>\n",
       "      <td>1.0</td>\n",
       "    </tr>\n",
       "    <tr>\n",
       "      <th>&gt;=100k followers</th>\n",
       "      <td>692.0</td>\n",
       "      <td>0.158799</td>\n",
       "      <td>0.247325</td>\n",
       "      <td>0.0</td>\n",
       "      <td>0.0</td>\n",
       "      <td>0.0</td>\n",
       "      <td>0.250</td>\n",
       "      <td>1.0</td>\n",
       "    </tr>\n",
       "  </tbody>\n",
       "</table>\n",
       "</div>"
      ],
      "text/plain": [
       "                     count      mean       std  min  25%  50%    75%  max\n",
       "group                                                                    \n",
       "<1k followers      54030.0  0.175480  0.248268  0.0  0.0  0.0  0.300  1.0\n",
       "1k~100k followers  27925.0  0.165027  0.242731  0.0  0.0  0.0  0.275  1.0\n",
       ">=100k followers     692.0  0.158799  0.247325  0.0  0.0  0.0  0.250  1.0"
      ]
     },
     "execution_count": 70,
     "metadata": {},
     "output_type": "execute_result"
    }
   ],
   "source": [
    "df2.groupby(['group'])[sentiment_col_abs].describe().sort_values(by='count',ascending=False)"
   ]
  },
  {
   "cell_type": "code",
   "execution_count": 71,
   "metadata": {},
   "outputs": [
    {
     "data": {
      "text/html": [
       "<div>\n",
       "<style scoped>\n",
       "    .dataframe tbody tr th:only-of-type {\n",
       "        vertical-align: middle;\n",
       "    }\n",
       "\n",
       "    .dataframe tbody tr th {\n",
       "        vertical-align: top;\n",
       "    }\n",
       "\n",
       "    .dataframe thead th {\n",
       "        text-align: right;\n",
       "    }\n",
       "</style>\n",
       "<table border=\"1\" class=\"dataframe\">\n",
       "  <thead>\n",
       "    <tr style=\"text-align: right;\">\n",
       "      <th></th>\n",
       "      <th>Keyword</th>\n",
       "      <th>group</th>\n",
       "      <th>count</th>\n",
       "      <th>mean</th>\n",
       "      <th>std</th>\n",
       "      <th>min</th>\n",
       "      <th>25%</th>\n",
       "      <th>50%</th>\n",
       "      <th>75%</th>\n",
       "      <th>max</th>\n",
       "    </tr>\n",
       "  </thead>\n",
       "  <tbody>\n",
       "    <tr>\n",
       "      <th>1</th>\n",
       "      <td>Both</td>\n",
       "      <td>&lt;1k followers</td>\n",
       "      <td>4571.0</td>\n",
       "      <td>0.038824</td>\n",
       "      <td>0.275737</td>\n",
       "      <td>-1.000</td>\n",
       "      <td>0.0</td>\n",
       "      <td>0.0</td>\n",
       "      <td>0.100000</td>\n",
       "      <td>1.0</td>\n",
       "    </tr>\n",
       "    <tr>\n",
       "      <th>0</th>\n",
       "      <td>Both</td>\n",
       "      <td>1k~100k followers</td>\n",
       "      <td>2378.0</td>\n",
       "      <td>0.042811</td>\n",
       "      <td>0.276874</td>\n",
       "      <td>-1.000</td>\n",
       "      <td>0.0</td>\n",
       "      <td>0.0</td>\n",
       "      <td>0.098214</td>\n",
       "      <td>1.0</td>\n",
       "    </tr>\n",
       "    <tr>\n",
       "      <th>2</th>\n",
       "      <td>Both</td>\n",
       "      <td>&gt;=100k followers</td>\n",
       "      <td>103.0</td>\n",
       "      <td>0.057808</td>\n",
       "      <td>0.277904</td>\n",
       "      <td>-1.000</td>\n",
       "      <td>0.0</td>\n",
       "      <td>0.0</td>\n",
       "      <td>0.023485</td>\n",
       "      <td>1.0</td>\n",
       "    </tr>\n",
       "    <tr>\n",
       "      <th>4</th>\n",
       "      <td>Clinton</td>\n",
       "      <td>&lt;1k followers</td>\n",
       "      <td>11843.0</td>\n",
       "      <td>0.037669</td>\n",
       "      <td>0.285110</td>\n",
       "      <td>-1.000</td>\n",
       "      <td>0.0</td>\n",
       "      <td>0.0</td>\n",
       "      <td>0.100000</td>\n",
       "      <td>1.0</td>\n",
       "    </tr>\n",
       "    <tr>\n",
       "      <th>3</th>\n",
       "      <td>Clinton</td>\n",
       "      <td>1k~100k followers</td>\n",
       "      <td>7023.0</td>\n",
       "      <td>0.033216</td>\n",
       "      <td>0.269730</td>\n",
       "      <td>-1.000</td>\n",
       "      <td>0.0</td>\n",
       "      <td>0.0</td>\n",
       "      <td>0.050000</td>\n",
       "      <td>1.0</td>\n",
       "    </tr>\n",
       "    <tr>\n",
       "      <th>5</th>\n",
       "      <td>Clinton</td>\n",
       "      <td>&gt;=100k followers</td>\n",
       "      <td>133.0</td>\n",
       "      <td>0.010902</td>\n",
       "      <td>0.303418</td>\n",
       "      <td>-0.875</td>\n",
       "      <td>0.0</td>\n",
       "      <td>0.0</td>\n",
       "      <td>0.100000</td>\n",
       "      <td>0.8</td>\n",
       "    </tr>\n",
       "    <tr>\n",
       "      <th>7</th>\n",
       "      <td>Election-General</td>\n",
       "      <td>&lt;1k followers</td>\n",
       "      <td>10085.0</td>\n",
       "      <td>0.072006</td>\n",
       "      <td>0.319887</td>\n",
       "      <td>-1.000</td>\n",
       "      <td>0.0</td>\n",
       "      <td>0.0</td>\n",
       "      <td>0.200000</td>\n",
       "      <td>1.0</td>\n",
       "    </tr>\n",
       "    <tr>\n",
       "      <th>6</th>\n",
       "      <td>Election-General</td>\n",
       "      <td>1k~100k followers</td>\n",
       "      <td>4586.0</td>\n",
       "      <td>0.076458</td>\n",
       "      <td>0.315850</td>\n",
       "      <td>-1.000</td>\n",
       "      <td>0.0</td>\n",
       "      <td>0.0</td>\n",
       "      <td>0.200000</td>\n",
       "      <td>1.0</td>\n",
       "    </tr>\n",
       "    <tr>\n",
       "      <th>8</th>\n",
       "      <td>Election-General</td>\n",
       "      <td>&gt;=100k followers</td>\n",
       "      <td>63.0</td>\n",
       "      <td>0.142063</td>\n",
       "      <td>0.317093</td>\n",
       "      <td>-0.800</td>\n",
       "      <td>0.0</td>\n",
       "      <td>0.0</td>\n",
       "      <td>0.283333</td>\n",
       "      <td>1.0</td>\n",
       "    </tr>\n",
       "    <tr>\n",
       "      <th>10</th>\n",
       "      <td>Trump</td>\n",
       "      <td>&lt;1k followers</td>\n",
       "      <td>27531.0</td>\n",
       "      <td>0.060671</td>\n",
       "      <td>0.299818</td>\n",
       "      <td>-1.000</td>\n",
       "      <td>0.0</td>\n",
       "      <td>0.0</td>\n",
       "      <td>0.136364</td>\n",
       "      <td>1.0</td>\n",
       "    </tr>\n",
       "    <tr>\n",
       "      <th>9</th>\n",
       "      <td>Trump</td>\n",
       "      <td>1k~100k followers</td>\n",
       "      <td>13938.0</td>\n",
       "      <td>0.054671</td>\n",
       "      <td>0.290317</td>\n",
       "      <td>-1.000</td>\n",
       "      <td>0.0</td>\n",
       "      <td>0.0</td>\n",
       "      <td>0.136364</td>\n",
       "      <td>1.0</td>\n",
       "    </tr>\n",
       "    <tr>\n",
       "      <th>11</th>\n",
       "      <td>Trump</td>\n",
       "      <td>&gt;=100k followers</td>\n",
       "      <td>393.0</td>\n",
       "      <td>0.067571</td>\n",
       "      <td>0.276775</td>\n",
       "      <td>-1.000</td>\n",
       "      <td>0.0</td>\n",
       "      <td>0.0</td>\n",
       "      <td>0.125000</td>\n",
       "      <td>1.0</td>\n",
       "    </tr>\n",
       "  </tbody>\n",
       "</table>\n",
       "</div>"
      ],
      "text/plain": [
       "             Keyword              group    count      mean       std    min  \\\n",
       "1               Both      <1k followers   4571.0  0.038824  0.275737 -1.000   \n",
       "0               Both  1k~100k followers   2378.0  0.042811  0.276874 -1.000   \n",
       "2               Both   >=100k followers    103.0  0.057808  0.277904 -1.000   \n",
       "4            Clinton      <1k followers  11843.0  0.037669  0.285110 -1.000   \n",
       "3            Clinton  1k~100k followers   7023.0  0.033216  0.269730 -1.000   \n",
       "5            Clinton   >=100k followers    133.0  0.010902  0.303418 -0.875   \n",
       "7   Election-General      <1k followers  10085.0  0.072006  0.319887 -1.000   \n",
       "6   Election-General  1k~100k followers   4586.0  0.076458  0.315850 -1.000   \n",
       "8   Election-General   >=100k followers     63.0  0.142063  0.317093 -0.800   \n",
       "10             Trump      <1k followers  27531.0  0.060671  0.299818 -1.000   \n",
       "9              Trump  1k~100k followers  13938.0  0.054671  0.290317 -1.000   \n",
       "11             Trump   >=100k followers    393.0  0.067571  0.276775 -1.000   \n",
       "\n",
       "    25%  50%       75%  max  \n",
       "1   0.0  0.0  0.100000  1.0  \n",
       "0   0.0  0.0  0.098214  1.0  \n",
       "2   0.0  0.0  0.023485  1.0  \n",
       "4   0.0  0.0  0.100000  1.0  \n",
       "3   0.0  0.0  0.050000  1.0  \n",
       "5   0.0  0.0  0.100000  0.8  \n",
       "7   0.0  0.0  0.200000  1.0  \n",
       "6   0.0  0.0  0.200000  1.0  \n",
       "8   0.0  0.0  0.283333  1.0  \n",
       "10  0.0  0.0  0.136364  1.0  \n",
       "9   0.0  0.0  0.136364  1.0  \n",
       "11  0.0  0.0  0.125000  1.0  "
      ]
     },
     "execution_count": 71,
     "metadata": {},
     "output_type": "execute_result"
    }
   ],
   "source": [
    "df2.groupby(['Keyword','group'])[sentiment_col].describe().reset_index().sort_values(by=['Keyword','count'],ascending=[True,False])"
   ]
  },
  {
   "cell_type": "code",
   "execution_count": 72,
   "metadata": {},
   "outputs": [
    {
     "data": {
      "text/html": [
       "<div>\n",
       "<style scoped>\n",
       "    .dataframe tbody tr th:only-of-type {\n",
       "        vertical-align: middle;\n",
       "    }\n",
       "\n",
       "    .dataframe tbody tr th {\n",
       "        vertical-align: top;\n",
       "    }\n",
       "\n",
       "    .dataframe thead th {\n",
       "        text-align: right;\n",
       "    }\n",
       "</style>\n",
       "<table border=\"1\" class=\"dataframe\">\n",
       "  <thead>\n",
       "    <tr style=\"text-align: right;\">\n",
       "      <th></th>\n",
       "      <th>Keyword</th>\n",
       "      <th>group</th>\n",
       "      <th>count</th>\n",
       "      <th>mean</th>\n",
       "      <th>std</th>\n",
       "      <th>min</th>\n",
       "      <th>25%</th>\n",
       "      <th>50%</th>\n",
       "      <th>75%</th>\n",
       "      <th>max</th>\n",
       "    </tr>\n",
       "  </thead>\n",
       "  <tbody>\n",
       "    <tr>\n",
       "      <th>1</th>\n",
       "      <td>Both</td>\n",
       "      <td>&lt;1k followers</td>\n",
       "      <td>4571.0</td>\n",
       "      <td>0.153582</td>\n",
       "      <td>0.232263</td>\n",
       "      <td>0.0</td>\n",
       "      <td>0.0</td>\n",
       "      <td>0.000000</td>\n",
       "      <td>0.250000</td>\n",
       "      <td>1.000</td>\n",
       "    </tr>\n",
       "    <tr>\n",
       "      <th>0</th>\n",
       "      <td>Both</td>\n",
       "      <td>1k~100k followers</td>\n",
       "      <td>2378.0</td>\n",
       "      <td>0.151556</td>\n",
       "      <td>0.235614</td>\n",
       "      <td>0.0</td>\n",
       "      <td>0.0</td>\n",
       "      <td>0.000000</td>\n",
       "      <td>0.212500</td>\n",
       "      <td>1.000</td>\n",
       "    </tr>\n",
       "    <tr>\n",
       "      <th>2</th>\n",
       "      <td>Both</td>\n",
       "      <td>&gt;=100k followers</td>\n",
       "      <td>103.0</td>\n",
       "      <td>0.140009</td>\n",
       "      <td>0.246598</td>\n",
       "      <td>0.0</td>\n",
       "      <td>0.0</td>\n",
       "      <td>0.000000</td>\n",
       "      <td>0.162500</td>\n",
       "      <td>1.000</td>\n",
       "    </tr>\n",
       "    <tr>\n",
       "      <th>4</th>\n",
       "      <td>Clinton</td>\n",
       "      <td>&lt;1k followers</td>\n",
       "      <td>11843.0</td>\n",
       "      <td>0.159737</td>\n",
       "      <td>0.239142</td>\n",
       "      <td>0.0</td>\n",
       "      <td>0.0</td>\n",
       "      <td>0.000000</td>\n",
       "      <td>0.250000</td>\n",
       "      <td>1.000</td>\n",
       "    </tr>\n",
       "    <tr>\n",
       "      <th>3</th>\n",
       "      <td>Clinton</td>\n",
       "      <td>1k~100k followers</td>\n",
       "      <td>7023.0</td>\n",
       "      <td>0.144614</td>\n",
       "      <td>0.230091</td>\n",
       "      <td>0.0</td>\n",
       "      <td>0.0</td>\n",
       "      <td>0.000000</td>\n",
       "      <td>0.200000</td>\n",
       "      <td>1.000</td>\n",
       "    </tr>\n",
       "    <tr>\n",
       "      <th>5</th>\n",
       "      <td>Clinton</td>\n",
       "      <td>&gt;=100k followers</td>\n",
       "      <td>133.0</td>\n",
       "      <td>0.174561</td>\n",
       "      <td>0.247951</td>\n",
       "      <td>0.0</td>\n",
       "      <td>0.0</td>\n",
       "      <td>0.000000</td>\n",
       "      <td>0.325000</td>\n",
       "      <td>0.875</td>\n",
       "    </tr>\n",
       "    <tr>\n",
       "      <th>7</th>\n",
       "      <td>Election-General</td>\n",
       "      <td>&lt;1k followers</td>\n",
       "      <td>10085.0</td>\n",
       "      <td>0.200349</td>\n",
       "      <td>0.259555</td>\n",
       "      <td>0.0</td>\n",
       "      <td>0.0</td>\n",
       "      <td>0.066667</td>\n",
       "      <td>0.350000</td>\n",
       "      <td>1.000</td>\n",
       "    </tr>\n",
       "    <tr>\n",
       "      <th>6</th>\n",
       "      <td>Election-General</td>\n",
       "      <td>1k~100k followers</td>\n",
       "      <td>4586.0</td>\n",
       "      <td>0.195201</td>\n",
       "      <td>0.259801</td>\n",
       "      <td>0.0</td>\n",
       "      <td>0.0</td>\n",
       "      <td>0.050000</td>\n",
       "      <td>0.336458</td>\n",
       "      <td>1.000</td>\n",
       "    </tr>\n",
       "    <tr>\n",
       "      <th>8</th>\n",
       "      <td>Election-General</td>\n",
       "      <td>&gt;=100k followers</td>\n",
       "      <td>63.0</td>\n",
       "      <td>0.200718</td>\n",
       "      <td>0.283051</td>\n",
       "      <td>0.0</td>\n",
       "      <td>0.0</td>\n",
       "      <td>0.033333</td>\n",
       "      <td>0.318750</td>\n",
       "      <td>1.000</td>\n",
       "    </tr>\n",
       "    <tr>\n",
       "      <th>10</th>\n",
       "      <td>Trump</td>\n",
       "      <td>&lt;1k followers</td>\n",
       "      <td>27531.0</td>\n",
       "      <td>0.176779</td>\n",
       "      <td>0.249640</td>\n",
       "      <td>0.0</td>\n",
       "      <td>0.0</td>\n",
       "      <td>0.000000</td>\n",
       "      <td>0.300000</td>\n",
       "      <td>1.000</td>\n",
       "    </tr>\n",
       "    <tr>\n",
       "      <th>9</th>\n",
       "      <td>Trump</td>\n",
       "      <td>1k~100k followers</td>\n",
       "      <td>13938.0</td>\n",
       "      <td>0.167683</td>\n",
       "      <td>0.243215</td>\n",
       "      <td>0.0</td>\n",
       "      <td>0.0</td>\n",
       "      <td>0.000000</td>\n",
       "      <td>0.285714</td>\n",
       "      <td>1.000</td>\n",
       "    </tr>\n",
       "    <tr>\n",
       "      <th>11</th>\n",
       "      <td>Trump</td>\n",
       "      <td>&gt;=100k followers</td>\n",
       "      <td>393.0</td>\n",
       "      <td>0.151669</td>\n",
       "      <td>0.241080</td>\n",
       "      <td>0.0</td>\n",
       "      <td>0.0</td>\n",
       "      <td>0.000000</td>\n",
       "      <td>0.250000</td>\n",
       "      <td>1.000</td>\n",
       "    </tr>\n",
       "  </tbody>\n",
       "</table>\n",
       "</div>"
      ],
      "text/plain": [
       "             Keyword              group    count      mean       std  min  \\\n",
       "1               Both      <1k followers   4571.0  0.153582  0.232263  0.0   \n",
       "0               Both  1k~100k followers   2378.0  0.151556  0.235614  0.0   \n",
       "2               Both   >=100k followers    103.0  0.140009  0.246598  0.0   \n",
       "4            Clinton      <1k followers  11843.0  0.159737  0.239142  0.0   \n",
       "3            Clinton  1k~100k followers   7023.0  0.144614  0.230091  0.0   \n",
       "5            Clinton   >=100k followers    133.0  0.174561  0.247951  0.0   \n",
       "7   Election-General      <1k followers  10085.0  0.200349  0.259555  0.0   \n",
       "6   Election-General  1k~100k followers   4586.0  0.195201  0.259801  0.0   \n",
       "8   Election-General   >=100k followers     63.0  0.200718  0.283051  0.0   \n",
       "10             Trump      <1k followers  27531.0  0.176779  0.249640  0.0   \n",
       "9              Trump  1k~100k followers  13938.0  0.167683  0.243215  0.0   \n",
       "11             Trump   >=100k followers    393.0  0.151669  0.241080  0.0   \n",
       "\n",
       "    25%       50%       75%    max  \n",
       "1   0.0  0.000000  0.250000  1.000  \n",
       "0   0.0  0.000000  0.212500  1.000  \n",
       "2   0.0  0.000000  0.162500  1.000  \n",
       "4   0.0  0.000000  0.250000  1.000  \n",
       "3   0.0  0.000000  0.200000  1.000  \n",
       "5   0.0  0.000000  0.325000  0.875  \n",
       "7   0.0  0.066667  0.350000  1.000  \n",
       "6   0.0  0.050000  0.336458  1.000  \n",
       "8   0.0  0.033333  0.318750  1.000  \n",
       "10  0.0  0.000000  0.300000  1.000  \n",
       "9   0.0  0.000000  0.285714  1.000  \n",
       "11  0.0  0.000000  0.250000  1.000  "
      ]
     },
     "execution_count": 72,
     "metadata": {},
     "output_type": "execute_result"
    }
   ],
   "source": [
    "df2.groupby(['Keyword','group'])[sentiment_col_abs].describe().reset_index().sort_values(by=['Keyword','count'],ascending=[True,False])"
   ]
  },
  {
   "cell_type": "code",
   "execution_count": 30,
   "metadata": {},
   "outputs": [
    {
     "data": {
      "text/plain": [
       "<AxesSubplot:xlabel='group', ylabel='sentiment'>"
      ]
     },
     "execution_count": 30,
     "metadata": {},
     "output_type": "execute_result"
    },
    {
     "data": {
      "image/png": "[encoded data removed]",
      "text/plain": [
       "<Figure size 432x288 with 1 Axes>"
      ]
     },
     "metadata": {
      "needs_background": "light"
     },
     "output_type": "display_data"
    }
   ],
   "source": [
    "sns.boxplot(x = 'group',y = sentiment_col,data = df2)"
   ]
  },
  {
   "cell_type": "code",
   "execution_count": 31,
   "metadata": {},
   "outputs": [
    {
     "data": {
      "text/plain": [
       "<AxesSubplot:xlabel='Keyword', ylabel='Followers'>"
      ]
     },
     "execution_count": 31,
     "metadata": {},
     "output_type": "execute_result"
    },
    {
     "data": {
      "image/png": "[encoded data removed]",
      "text/plain": [
       "<Figure size 432x288 with 1 Axes>"
      ]
     },
     "metadata": {
      "needs_background": "light"
     },
     "output_type": "display_data"
    }
   ],
   "source": [
    "sns.boxplot(x = 'Keyword',y = 'Followers',data = df2)"
   ]
  },
  {
   "cell_type": "code",
   "execution_count": 32,
   "metadata": {},
   "outputs": [
    {
     "name": "stdout",
     "output_type": "stream",
     "text": [
      "Ttest_indResult(statistic=1.449340736746415, pvalue=0.1472476026601166)\n",
      "Ttest_indResult(statistic=1.4440328435697087, pvalue=0.14873834368875322)\n"
     ]
    }
   ],
   "source": [
    "# t test on whether there's difference on the number of followers of blogs talking about Trump VS Clinton\n",
    "print(stats.ttest_ind(df2.loc[df2['Keyword']=='Trump','Followers'], df2.loc[df2['Keyword']=='Clinton','Followers']))\n",
    "# print(stats.ttest_ind(df2.loc[df2['Keyword']=='Trump','Followers'], df2.loc[df2['Keyword']=='Clinton','Followers'],equal_var=False))"
   ]
  },
  {
   "cell_type": "markdown",
   "metadata": {},
   "source": [
    "### 3. Word vevtors"
   ]
  },
  {
   "cell_type": "code",
   "execution_count": 34,
   "metadata": {},
   "outputs": [
    {
     "name": "stdout",
     "output_type": "stream",
     "text": [
      "[==================================================] 100.0% 376.1/376.1MB downloaded\n"
     ]
    },
    {
     "data": {
      "text/plain": [
       "(300,)"
      ]
     },
     "execution_count": 34,
     "metadata": {},
     "output_type": "execute_result"
    }
   ],
   "source": [
    "word = 'trump'\n",
    "nlp = gensim_api.load(\"glove-wiki-gigaword-300\")\n",
    "nlp[word].shape"
   ]
  },
  {
   "cell_type": "code",
   "execution_count": 36,
   "metadata": {},
   "outputs": [],
   "source": [
    "def plot_word_vector(word,nlp):\n",
    "    ## find closest vectors\n",
    "    labels, X, x, y = [], [], [], []\n",
    "    for t in nlp.most_similar(word, topn=20):\n",
    "        X.append(nlp[t[0]])\n",
    "        labels.append(t[0])\n",
    "    ## reduce dimensions\n",
    "    pca = manifold.TSNE(perplexity=40, n_components=2, init='pca')\n",
    "    new_values = pca.fit_transform(X)\n",
    "    for value in new_values:\n",
    "        x.append(value[0])\n",
    "        y.append(value[1])\n",
    "    ## plot\n",
    "    fig = plt.figure()\n",
    "    for i in range(len(x)):\n",
    "        plt.scatter(x[i], y[i], c=\"black\")\n",
    "        plt.annotate(labels[i], xy=(x[i],y[i]), xytext=(5,2), \n",
    "                textcoords='offset points', ha='right', va='bottom')\n",
    "    ## add center\n",
    "    plt.scatter(x=0, y=0, c=\"red\")\n",
    "    plt.annotate(word, xy=(0,0), xytext=(5,2), textcoords='offset points', ha='right', va='bottom')"
   ]
  },
  {
   "cell_type": "code",
   "execution_count": 37,
   "metadata": {},
   "outputs": [
    {
     "data": {
      "image/png": "[encoded data removed]",
      "text/plain": [
       "<Figure size 432x288 with 1 Axes>"
      ]
     },
     "metadata": {
      "needs_background": "light"
     },
     "output_type": "display_data"
    }
   ],
   "source": [
    "word = 'trump'\n",
    "plot_word_vector(word,nlp)"
   ]
  },
  {
   "cell_type": "code",
   "execution_count": 39,
   "metadata": {},
   "outputs": [
    {
     "data": {
      "image/png": "[encoded data removed]",
      "text/plain": [
       "<Figure size 432x288 with 1 Axes>"
      ]
     },
     "metadata": {
      "needs_background": "light"
     },
     "output_type": "display_data"
    }
   ],
   "source": [
    "word = 'clinton'\n",
    "plot_word_vector(word,nlp)"
   ]
  },
  {
   "cell_type": "markdown",
   "metadata": {},
   "source": [
    "### 4. Topic models"
   ]
  },
  {
   "cell_type": "code",
   "execution_count": 59,
   "metadata": {},
   "outputs": [
    {
     "data": {
      "text/plain": [
       "['lie', 'win', 'work', 'clinton', 'that', 'pretti', 'deplor']"
      ]
     },
     "execution_count": 59,
     "metadata": {},
     "output_type": "execute_result"
    }
   ],
   "source": [
    "cat = \"Clinton\"\n",
    "processed_text = [nltk.word_tokenize(i) for i in df2.loc[df2['Keyword']==cat,'Text_Clean']]\n",
    "# processed_text = [nltk.word_tokenize(i) for i in df2['Text_Clean']]\n",
    "\n",
    "#create a dictionary of the words\n",
    "dictionary = gensim.corpora.Dictionary(processed_text)\n",
    "#create a TDM\n",
    "doc_term_matrix = [dictionary.doc2bow(doc) for doc in processed_text]"
   ]
  },
  {
   "cell_type": "code",
   "execution_count": 61,
   "metadata": {},
   "outputs": [],
   "source": [
    "# build lda model\n",
    "num_topics = 4\n",
    "lda_model = gensim.models.ldamodel.LdaModel(corpus = doc_term_matrix, #TDM\n",
    "                                            id2word = dictionary, #Dictionary\n",
    "                                            num_topics = num_topics, \n",
    "                                            random_state = 100,\n",
    "                                            update_every = 1,\n",
    "                                            chunksize = 100,\n",
    "                                            passes = 10,\n",
    "                                            alpha = 'auto',\n",
    "                                            per_word_topics = True)"
   ]
  },
  {
   "cell_type": "code",
   "execution_count": 62,
   "metadata": {},
   "outputs": [],
   "source": [
    "# create topic model viz\n",
    "vis = gensimvis.prepare(lda_model, doc_term_matrix, dictionary, n_jobs = 1)\n",
    "pyLDAvis.save_html(vis, f'./output/LDA_Visualization_{num_topics}topics_{cat}.html') ##saves the file\n",
    "# vis"
   ]
  },
  {
   "cell_type": "code",
   "execution_count": null,
   "metadata": {},
   "outputs": [],
   "source": []
  },
  {
   "cell_type": "markdown",
   "metadata": {},
   "source": [
    "# include plots\n",
    "knitr::include_graphics('filename.png')"
   ]
  }
 ],
 "metadata": {
  "interpreter": {
   "hash": "542baddfccc749a63b2dcc76925354fe6ea5304c9119267dcc7e3249807069d8"
  },
  "kernelspec": {
   "display_name": "Python 3.8.5 64-bit ('py38': conda)",
   "language": "python",
   "name": "python3"
  },
  "language_info": {
   "codemirror_mode": {
    "name": "ipython",
    "version": 3
   },
   "file_extension": ".py",
   "mimetype": "text/x-python",
   "name": "python",
   "nbconvert_exporter": "python",
   "pygments_lexer": "ipython3",
   "version": "3.9.7"
  },
  "orig_nbformat": 4
 },
 "nbformat": 4,
 "nbformat_minor": 2
}
